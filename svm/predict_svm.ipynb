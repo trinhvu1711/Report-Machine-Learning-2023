{
 "cells": [
  {
   "cell_type": "code",
   "execution_count": 12,
   "id": "d6e49758-ae22-42b0-b2af-e76c6558a484",
   "metadata": {},
   "outputs": [],
   "source": [
    "import numpy as np\n",
    "import pandas as pd\n",
    "import matplotlib.pyplot as plt\n",
    "from sklearn.svm import SVC\n",
    "from sklearn.metrics import confusion_matrix, accuracy_score, precision_score, recall_score, f1_score\n",
    "from sklearn.model_selection import GridSearchCV, train_test_split\n",
    "from imblearn.over_sampling import RandomOverSampler\n",
    "from ml_model_eval import pred_proba_plot, plot_cross_val_confusion_matrix, plot_learning_curve\n",
    "from sklearn.model_selection import StratifiedKFold, cross_val_score"
   ]
  },
  {
   "cell_type": "code",
   "execution_count": 2,
   "id": "57e01a85-72c7-4154-b78a-f1fbe0dbbf74",
   "metadata": {},
   "outputs": [],
   "source": [
    "matches = pd.read_csv(\"matches_after_preprocessing.csv\", index_col=0)"
   ]
  },
  {
   "cell_type": "code",
   "execution_count": 3,
   "id": "ea4f475b-62e9-4b69-a872-5a6486019d5f",
   "metadata": {},
   "outputs": [
    {
     "data": {
      "text/html": [
       "<div>\n",
       "<style scoped>\n",
       "    .dataframe tbody tr th:only-of-type {\n",
       "        vertical-align: middle;\n",
       "    }\n",
       "\n",
       "    .dataframe tbody tr th {\n",
       "        vertical-align: top;\n",
       "    }\n",
       "\n",
       "    .dataframe thead th {\n",
       "        text-align: right;\n",
       "    }\n",
       "</style>\n",
       "<table border=\"1\" class=\"dataframe\">\n",
       "  <thead>\n",
       "    <tr style=\"text-align: right;\">\n",
       "      <th></th>\n",
       "      <th>venue_code</th>\n",
       "      <th>opp_code</th>\n",
       "      <th>hour</th>\n",
       "      <th>day_code</th>\n",
       "    </tr>\n",
       "  </thead>\n",
       "  <tbody>\n",
       "    <tr>\n",
       "      <th>161</th>\n",
       "      <td>0</td>\n",
       "      <td>7</td>\n",
       "      <td>12</td>\n",
       "      <td>6</td>\n",
       "    </tr>\n",
       "    <tr>\n",
       "      <th>162</th>\n",
       "      <td>0</td>\n",
       "      <td>26</td>\n",
       "      <td>19</td>\n",
       "      <td>5</td>\n",
       "    </tr>\n",
       "    <tr>\n",
       "      <th>163</th>\n",
       "      <td>1</td>\n",
       "      <td>25</td>\n",
       "      <td>20</td>\n",
       "      <td>0</td>\n",
       "    </tr>\n",
       "    <tr>\n",
       "      <th>164</th>\n",
       "      <td>0</td>\n",
       "      <td>4</td>\n",
       "      <td>17</td>\n",
       "      <td>5</td>\n",
       "    </tr>\n",
       "    <tr>\n",
       "      <th>165</th>\n",
       "      <td>1</td>\n",
       "      <td>17</td>\n",
       "      <td>19</td>\n",
       "      <td>1</td>\n",
       "    </tr>\n",
       "    <tr>\n",
       "      <th>...</th>\n",
       "      <td>...</td>\n",
       "      <td>...</td>\n",
       "      <td>...</td>\n",
       "      <td>...</td>\n",
       "    </tr>\n",
       "    <tr>\n",
       "      <th>3648</th>\n",
       "      <td>1</td>\n",
       "      <td>3</td>\n",
       "      <td>15</td>\n",
       "      <td>5</td>\n",
       "    </tr>\n",
       "    <tr>\n",
       "      <th>3649</th>\n",
       "      <td>0</td>\n",
       "      <td>13</td>\n",
       "      <td>15</td>\n",
       "      <td>5</td>\n",
       "    </tr>\n",
       "    <tr>\n",
       "      <th>3650</th>\n",
       "      <td>1</td>\n",
       "      <td>8</td>\n",
       "      <td>19</td>\n",
       "      <td>1</td>\n",
       "    </tr>\n",
       "    <tr>\n",
       "      <th>3651</th>\n",
       "      <td>0</td>\n",
       "      <td>4</td>\n",
       "      <td>15</td>\n",
       "      <td>5</td>\n",
       "    </tr>\n",
       "    <tr>\n",
       "      <th>3652</th>\n",
       "      <td>1</td>\n",
       "      <td>1</td>\n",
       "      <td>15</td>\n",
       "      <td>5</td>\n",
       "    </tr>\n",
       "  </tbody>\n",
       "</table>\n",
       "<p>442 rows × 4 columns</p>\n",
       "</div>"
      ],
      "text/plain": [
       "      venue_code  opp_code  hour  day_code\n",
       "161            0         7    12         6\n",
       "162            0        26    19         5\n",
       "163            1        25    20         0\n",
       "164            0         4    17         5\n",
       "165            1        17    19         1\n",
       "...          ...       ...   ...       ...\n",
       "3648           1         3    15         5\n",
       "3649           0        13    15         5\n",
       "3650           1         8    19         1\n",
       "3651           0         4    15         5\n",
       "3652           1         1    15         5\n",
       "\n",
       "[442 rows x 4 columns]"
      ]
     },
     "execution_count": 3,
     "metadata": {},
     "output_type": "execute_result"
    }
   ],
   "source": [
    "train = matches[matches[\"date\"] < '2022-11-01']\n",
    "test = matches[matches[\"date\"] > '2022-11-01']\n",
    "predictors = [\"venue_code\", \"opp_code\", \"hour\", \"day_code\", \"gf_rolling\", \"ga_rolling\", \"sh_rolling\", \"sot_rolling\", \"dist_rolling\", \"fk_rolling\", \"pk_rolling\", \"pkatt_rolling\"]\n",
    "X_train = train[predictors]\n",
    "y_train = train[\"target\"]\n",
    "X_test = test[predictors]\n",
    "y_test = test[\"target\"]\n",
    "X_test.drop([\"gf_rolling\", \"ga_rolling\", \"sh_rolling\", \"sot_rolling\", \"dist_rolling\", \"fk_rolling\", \"pk_rolling\", \"pkatt_rolling\"], axis =1)"
   ]
  },
  {
   "cell_type": "code",
   "execution_count": 4,
   "id": "1af48f4f-2da7-4224-bf92-d4cb4c8a0081",
   "metadata": {},
   "outputs": [
    {
     "name": "stdout",
     "output_type": "stream",
     "text": [
      "Confusion matrix: [[261   4]\n",
      " [170   7]]\n",
      "Accuracy score: 0.6063348416289592\n",
      "Precision score: 0.6363636363636364\n",
      "Recall score: 0.03954802259887006\n",
      "F1 score: 0.07446808510638299\n"
     ]
    }
   ],
   "source": [
    "svm = SVC()\n",
    "svm.fit(X_train, y_train)\n",
    "preds = svm.predict(X_test)\n",
    "confusion_matrix = confusion_matrix(y_test, preds)\n",
    "accuracy_score = accuracy_score(y_test, preds)\n",
    "precision_score = precision_score(y_test, preds)\n",
    "recall_score = recall_score(y_test, preds)\n",
    "f1_score = f1_score(y_test, preds)\n",
    "print(\"Confusion matrix:\", confusion_matrix)\n",
    "print(\"Accuracy score:\", accuracy_score)\n",
    "print(\"Precision score:\", precision_score)\n",
    "print(\"Recall score:\", recall_score)\n",
    "print(\"F1 score:\", f1_score)\n"
   ]
  },
  {
   "cell_type": "code",
   "execution_count": 5,
   "id": "6c085253-555b-4ec8-b639-2fb7fc4be8cc",
   "metadata": {},
   "outputs": [],
   "source": [
    "def testing_c_parms(X_train, y_train, X_test, y_test, iterable):\n",
    "    training_score_li = []\n",
    "    test_score_li = []\n",
    "    for c in iterable:\n",
    "        clf = SVC(kernel='rbf', C=c)\n",
    "        clf.fit(X_train, y_train)\n",
    "        train_data_score = round(clf.score(X_train, y_train) * 100, 1)\n",
    "        test_data_score = round(clf.score(X_test, y_test) * 100, 1)\n",
    "        training_score_li.append(train_data_score)\n",
    "        test_score_li.append(test_data_score)\n",
    "    return training_score_li, test_score_li"
   ]
  },
  {
   "cell_type": "code",
   "execution_count": 6,
   "id": "92045dd1-3596-41ea-a9ea-c8ec728c3e89",
   "metadata": {},
   "outputs": [],
   "source": [
    "expo_iter = np.square(np.arange(0.1, 10, 0.1))\n",
    "\n",
    "training_score_li, test_score_li = testing_c_parms(X_train, y_train, X_test, y_test, expo_iter)\n"
   ]
  },
  {
   "cell_type": "code",
   "execution_count": 7,
   "id": "e7cb8c0d-c45a-4bf3-981d-e9b151b7a438",
   "metadata": {},
   "outputs": [
    {
     "data": {
      "image/png": "[encoded data removed]",
      "text/plain": [
       "<Figure size 640x480 with 1 Axes>"
      ]
     },
     "metadata": {},
     "output_type": "display_data"
    }
   ],
   "source": [
    "best_index = np.argmax(test_score_li)\n",
    "best_c = expo_iter[best_index]\n",
    "fig, ax = plt.subplots()\n",
    "ax.plot(expo_iter, test_score_li)\n",
    "plt.show()"
   ]
  },
  {
   "cell_type": "code",
   "execution_count": 8,
   "id": "d737b041-68a0-4516-96a8-196c34dbcf42",
   "metadata": {},
   "outputs": [
    {
     "data": {
      "text/plain": [
       "35"
      ]
     },
     "execution_count": 8,
     "metadata": {},
     "output_type": "execute_result"
    }
   ],
   "source": [
    "best_index"
   ]
  },
  {
   "cell_type": "code",
   "execution_count": 9,
   "id": "d7e8857c-af65-4994-8618-e3f732d2d3e6",
   "metadata": {},
   "outputs": [
    {
     "data": {
      "text/plain": [
       "12.96"
      ]
     },
     "execution_count": 9,
     "metadata": {},
     "output_type": "execute_result"
    }
   ],
   "source": [
    "best_c"
   ]
  },
  {
   "cell_type": "code",
   "execution_count": 10,
   "id": "d7342ef4-02b9-4fa8-a875-642d247f6c66",
   "metadata": {},
   "outputs": [
    {
     "name": "stdout",
     "output_type": "stream",
     "text": [
      "Kernel tốt nhất: rbf\n",
      "Độ chính xác tốt nhất: 0.6269128840181587\n"
     ]
    }
   ],
   "source": [
    "kernels = ['linear', 'poly', 'rbf', 'sigmoid']\n",
    "\n",
    "# Tạo một dict param_grid với các giá trị kernel\n",
    "param_grid = {'kernel': kernels}\n",
    "\n",
    "# Tạo model SVM\n",
    "svm_model = SVC(C=best_c)\n",
    "\n",
    "# Áp dụng GridSearchCV với các kernel\n",
    "grid_search = GridSearchCV(svm_model, param_grid, cv=5)\n",
    "grid_search.fit(X_train, y_train)\n",
    "\n",
    "# In kernel tốt nhất và độ chính xác tương ứng\n",
    "print(\"Kernel tốt nhất:\", grid_search.best_params_['kernel'])\n",
    "print(\"Độ chính xác tốt nhất:\", grid_search.best_score_)"
   ]
  },
  {
   "cell_type": "code",
   "execution_count": 13,
   "id": "5610c806-9025-4015-bd3e-0150d2b72f97",
   "metadata": {},
   "outputs": [
    {
     "name": "stdout",
     "output_type": "stream",
     "text": [
      "Best C: 12.96\n",
      "Confusion matrix: [[256   9]\n",
      " [156  21]]\n",
      "Accuracy score: 0.6266968325791855\n",
      "Precision score: 0.7\n",
      "Recall score: 0.11864406779661017\n",
      "F1 score: 0.20289855072463767\n"
     ]
    }
   ],
   "source": [
    "svm = SVC(kernel='rbf', C=best_c)\n",
    "svm.fit(X_train, y_train)\n",
    "preds = svm.predict(X_test)\n",
    "confusion_matrix = confusion_matrix(y_test, preds)\n",
    "accuracy_score = accuracy_score(y_test, preds)\n",
    "precision_score = precision_score(y_test, preds)\n",
    "recall_score = recall_score(y_test, preds)\n",
    "f1_score = f1_score(y_test, preds)\n",
    "\n",
    "print(\"Best C:\", best_c)\n",
    "print(\"Confusion matrix:\", confusion_matrix)\n",
    "print(\"Accuracy score:\", accuracy_score)\n",
    "print(\"Precision score:\", precision_score)\n",
    "print(\"Recall score:\", recall_score)\n",
    "print(\"F1 score:\", f1_score)"
   ]
  },
  {
   "cell_type": "code",
   "execution_count": 14,
   "id": "8c44279b-8a5f-4457-a167-dbf336c2053e",
   "metadata": {},
   "outputs": [
    {
     "name": "stdout",
     "output_type": "stream",
     "text": [
      "Cross-Validation Accuracy Score:  63.0 %\n"
     ]
    }
   ],
   "source": [
    "skf = StratifiedKFold(n_splits=5, shuffle=True)\n",
    "# Perform cross-validation\n",
    "cv_scores = cross_val_score(svm, X_train, y_train, cv=skf)\n",
    "cv_accuracy = round(np.mean(cv_scores) * 100, 1)\n",
    "\n",
    "print('Cross-Validation Accuracy Score: ', cv_accuracy, '%')\n"
   ]
  },
  {
   "cell_type": "code",
   "execution_count": 15,
   "id": "dc4e6987-c98f-423f-9df3-87d3fa07e2bd",
   "metadata": {},
   "outputs": [
    {
     "data": {
      "text/plain": [
       "array([0.63608087, 0.62772586, 0.63084112, 0.61838006, 0.63707165])"
      ]
     },
     "execution_count": 15,
     "metadata": {},
     "output_type": "execute_result"
    }
   ],
   "source": [
    "cv_scores"
   ]
  },
  {
   "cell_type": "code",
   "execution_count": 16,
   "id": "eae8ae18-9a17-4467-b418-c59bbb46d9df",
   "metadata": {},
   "outputs": [
    {
     "data": {
      "image/png": "[encoded data removed]",
      "text/plain": [
       "<Figure size 640x480 with 2 Axes>"
      ]
     },
     "metadata": {},
     "output_type": "display_data"
    }
   ],
   "source": [
    "plot_cross_val_confusion_matrix(confusion_matrix, display_labels='', title='Support Vector Machine Confusion Matrix', cv=5)\n",
    "plt.show()"
   ]
  },
  {
   "cell_type": "code",
   "execution_count": 17,
   "id": "c002323c-384d-4cb4-bed0-e4629f284c67",
   "metadata": {},
   "outputs": [
    {
     "data": {
      "image/png": "[encoded data removed]",
      "text/plain": [
       "<Figure size 640x480 with 1 Axes>"
      ]
     },
     "metadata": {},
     "output_type": "display_data"
    }
   ],
   "source": [
    "plot_learning_curve(svm, X_train, y_train, scoring='accuracy', training_set_size=5, cv=5, x_min=0, x_max=len(X_train), y_min=0.3, y_max=1.02, title='Support Vector Machine Learning Curve', leg_loc=4)\n",
    "plt.show()"
   ]
  },
  {
   "cell_type": "code",
   "execution_count": null,
   "id": "fb5e95c1-d5a3-42b5-a70b-5c37d36dbc76",
   "metadata": {},
   "outputs": [],
   "source": []
  }
 ],
 "metadata": {
  "kernelspec": {
   "display_name": "Python 3 (ipykernel)",
   "language": "python",
   "name": "python3"
  },
  "language_info": {
   "codemirror_mode": {
    "name": "ipython",
    "version": 3
   },
   "file_extension": ".py",
   "mimetype": "text/x-python",
   "name": "python",
   "nbconvert_exporter": "python",
   "pygments_lexer": "ipython3",
   "version": "3.10.9"
  }
 },
 "nbformat": 4,
 "nbformat_minor": 5
}
